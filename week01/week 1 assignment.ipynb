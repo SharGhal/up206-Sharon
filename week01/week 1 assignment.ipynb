{
 "cells": [
  {
   "cell_type": "markdown",
   "id": "ef519d4c-5304-4792-a41a-9a6a27db2b40",
   "metadata": {},
   "source": [
    "# Introduction"
   ]
  },
  {
   "cell_type": "markdown",
   "id": "4152de32-0b98-45d2-a674-46b7368fc888",
   "metadata": {},
   "source": [
    "In this notebook I explore data from 2019 Los Angeles Homeless Count that can be found [here](https://geohub.lacity.org/datasets/lahub::homeless-count-los-angeles-county-2019/about). The data in this file was gathered by LAHSA but the file itself is from The City of Los Angeles Geohub. Unfortunately, this is the most recent downloadable data on the Los Angeles Homeless Count. The data files for the 2020 count have not been released to the public for download. Using this data I would like to explore the concentration of homeless individuals throughout the county. "
   ]
  },
  {
   "cell_type": "markdown",
   "id": "d874e468-69a9-4eeb-b2e9-dd5f553a2ef4",
   "metadata": {
    "tags": []
   },
   "source": [
    "## Data Import"
   ]
  },
  {
   "cell_type": "markdown",
   "id": "6b4e2aff-f2f7-442e-ad5f-fe9708398589",
   "metadata": {},
   "source": [
    "**Step 1:** First I will import a new geopandas module so that this notebook will be prepped to import and read my shapefile data."
   ]
  },
  {
   "cell_type": "code",
   "execution_count": 44,
   "id": "7929d8dd-9067-4eb8-8ef1-741f9d92973d",
   "metadata": {},
   "outputs": [],
   "source": [
    "import geopandas as gpd"
   ]
  },
  {
   "cell_type": "markdown",
   "id": "4359ecdb-08be-4a6b-960f-f4c5828db9cf",
   "metadata": {},
   "source": [
    "This notebook is now ready to import data \n",
    "\n",
    "**Step 2:** Next, I import my zipped shapefile folder which is named *Homeless_Count_Los_Angeles_County_2019.zip*."
   ]
  },
  {
   "cell_type": "code",
   "execution_count": 54,
   "id": "5dd8e1ef-6ad8-45f4-859e-4fcfc10cadaa",
   "metadata": {},
   "outputs": [],
   "source": [
    "homeless_count = gpd.read_file('data/Homeless_Count_Los_Angeles_County_2019.zip')"
   ]
  },
  {
   "cell_type": "markdown",
   "id": "1f04862e-2710-482a-90a6-9c5485a79cac",
   "metadata": {},
   "source": [
    "## Data Exploration"
   ]
  },
  {
   "cell_type": "markdown",
   "id": "393e2032-2fec-4c9c-b1fb-1da8f5d3062a",
   "metadata": {},
   "source": [
    "**Step 3:** Now that my data is imported, I will check to see how many columns and rows are in my dataset."
   ]
  },
  {
   "cell_type": "code",
   "execution_count": 56,
   "id": "bb6d25a8-8871-4c96-a55b-afa4b9d1b696",
   "metadata": {},
   "outputs": [
    {
     "data": {
      "text/plain": [
       "(2163, 19)"
      ]
     },
     "execution_count": 56,
     "metadata": {},
     "output_type": "execute_result"
    }
   ],
   "source": [
    "homeless_count.shape"
   ]
  },
  {
   "cell_type": "markdown",
   "id": "a5bf2bd5-40ca-47b7-aefe-b8f729ce6cbc",
   "metadata": {},
   "source": [
    "This result tells me that I have 2163 columns and 19 rows"
   ]
  },
  {
   "cell_type": "markdown",
   "id": "9460d79e-9c0c-47e5-9741-c732f3826512",
   "metadata": {},
   "source": [
    "**Step 4:** I check for the data type."
   ]
  },
  {
   "cell_type": "code",
   "execution_count": 61,
   "id": "28560384-8b8a-4a45-90fa-9900e3ce394f",
   "metadata": {},
   "outputs": [
    {
     "data": {
      "text/plain": [
       "geopandas.geodataframe.GeoDataFrame"
      ]
     },
     "execution_count": 61,
     "metadata": {},
     "output_type": "execute_result"
    }
   ],
   "source": [
    "type(homeless_count)"
   ]
  },
  {
   "cell_type": "markdown",
   "id": "8f947fa2-ce6b-4036-9c72-812fd2aa6fa3",
   "metadata": {},
   "source": [
    "I can now see that my data type is geopandas.geodataframe.GeoDataFrame\n",
    "\n",
    "\n",
    "**Step 5:** I will now run a head code to check to see what my data table looks like."
   ]
  },
  {
   "cell_type": "code",
   "execution_count": 63,
   "id": "2f669b81-b4e9-4784-9711-c5612de7205f",
   "metadata": {},
   "outputs": [
    {
     "data": {
      "text/html": [
       "<div>\n",
       "<style scoped>\n",
       "    .dataframe tbody tr th:only-of-type {\n",
       "        vertical-align: middle;\n",
       "    }\n",
       "\n",
       "    .dataframe tbody tr th {\n",
       "        vertical-align: top;\n",
       "    }\n",
       "\n",
       "    .dataframe thead th {\n",
       "        text-align: right;\n",
       "    }\n",
       "</style>\n",
       "<table border=\"1\" class=\"dataframe\">\n",
       "  <thead>\n",
       "    <tr style=\"text-align: right;\">\n",
       "      <th></th>\n",
       "      <th>FID</th>\n",
       "      <th>Tract_N</th>\n",
       "      <th>SPA</th>\n",
       "      <th>Detailed_1</th>\n",
       "      <th>CD</th>\n",
       "      <th>Detailed_N</th>\n",
       "      <th>SD</th>\n",
       "      <th>Tract_1</th>\n",
       "      <th>Year_1</th>\n",
       "      <th>totUnshe_1</th>\n",
       "      <th>totShelt_1</th>\n",
       "      <th>totPeopl_1</th>\n",
       "      <th>u_dens</th>\n",
       "      <th>s_dens</th>\n",
       "      <th>t_dens</th>\n",
       "      <th>unincorpor</th>\n",
       "      <th>SHAPE_Leng</th>\n",
       "      <th>SHAPE_Area</th>\n",
       "      <th>geometry</th>\n",
       "    </tr>\n",
       "  </thead>\n",
       "  <tbody>\n",
       "    <tr>\n",
       "      <th>0</th>\n",
       "      <td>1</td>\n",
       "      <td>101110</td>\n",
       "      <td>2.0</td>\n",
       "      <td>Sunland-Tujunga NC</td>\n",
       "      <td>7.0</td>\n",
       "      <td>Sunland-Tujunga NC</td>\n",
       "      <td>5.0</td>\n",
       "      <td>101110.0</td>\n",
       "      <td>2019.0</td>\n",
       "      <td>12.614</td>\n",
       "      <td>0.0</td>\n",
       "      <td>12.614</td>\n",
       "      <td>28.600087</td>\n",
       "      <td>0.0</td>\n",
       "      <td>28.600087</td>\n",
       "      <td>No</td>\n",
       "      <td>0.047172</td>\n",
       "      <td>0.000112</td>\n",
       "      <td>POLYGON ((-118.28491 34.25948, -118.28494 34.2...</td>\n",
       "    </tr>\n",
       "    <tr>\n",
       "      <th>1</th>\n",
       "      <td>2</td>\n",
       "      <td>101122</td>\n",
       "      <td>2.0</td>\n",
       "      <td>Sunland-Tujunga NC</td>\n",
       "      <td>7.0</td>\n",
       "      <td>Sunland-Tujunga NC</td>\n",
       "      <td>5.0</td>\n",
       "      <td>101122.0</td>\n",
       "      <td>2019.0</td>\n",
       "      <td>1.000</td>\n",
       "      <td>0.0</td>\n",
       "      <td>1.000</td>\n",
       "      <td>0.979639</td>\n",
       "      <td>0.0</td>\n",
       "      <td>0.979639</td>\n",
       "      <td>No</td>\n",
       "      <td>0.096234</td>\n",
       "      <td>0.000259</td>\n",
       "      <td>POLYGON ((-118.29015 34.27417, -118.29015 34.2...</td>\n",
       "    </tr>\n",
       "    <tr>\n",
       "      <th>2</th>\n",
       "      <td>3</td>\n",
       "      <td>101210</td>\n",
       "      <td>2.0</td>\n",
       "      <td>Sunland-Tujunga NC</td>\n",
       "      <td>7.0</td>\n",
       "      <td>Sunland-Tujunga NC</td>\n",
       "      <td>5.0</td>\n",
       "      <td>101210.0</td>\n",
       "      <td>2019.0</td>\n",
       "      <td>14.517</td>\n",
       "      <td>0.0</td>\n",
       "      <td>14.517</td>\n",
       "      <td>57.787763</td>\n",
       "      <td>0.0</td>\n",
       "      <td>57.787763</td>\n",
       "      <td>No</td>\n",
       "      <td>0.037363</td>\n",
       "      <td>0.000064</td>\n",
       "      <td>POLYGON ((-118.28594 34.24896, -118.28594 34.2...</td>\n",
       "    </tr>\n",
       "    <tr>\n",
       "      <th>3</th>\n",
       "      <td>4</td>\n",
       "      <td>101220</td>\n",
       "      <td>2.0</td>\n",
       "      <td>Sunland-Tujunga NC</td>\n",
       "      <td>7.0</td>\n",
       "      <td>Sunland-Tujunga NC</td>\n",
       "      <td>5.0</td>\n",
       "      <td>101220.0</td>\n",
       "      <td>2019.0</td>\n",
       "      <td>24.058</td>\n",
       "      <td>0.0</td>\n",
       "      <td>24.058</td>\n",
       "      <td>89.152876</td>\n",
       "      <td>0.0</td>\n",
       "      <td>89.152876</td>\n",
       "      <td>No</td>\n",
       "      <td>0.038497</td>\n",
       "      <td>0.000068</td>\n",
       "      <td>POLYGON ((-118.28100 34.25592, -118.28101 34.2...</td>\n",
       "    </tr>\n",
       "    <tr>\n",
       "      <th>4</th>\n",
       "      <td>5</td>\n",
       "      <td>101300</td>\n",
       "      <td>2.0</td>\n",
       "      <td>Sunland-Tujunga NC</td>\n",
       "      <td>7.0</td>\n",
       "      <td>Sunland-Tujunga NC</td>\n",
       "      <td>5.0</td>\n",
       "      <td>101300.0</td>\n",
       "      <td>2019.0</td>\n",
       "      <td>9.278</td>\n",
       "      <td>0.0</td>\n",
       "      <td>9.278</td>\n",
       "      <td>9.313195</td>\n",
       "      <td>0.0</td>\n",
       "      <td>9.313195</td>\n",
       "      <td>No</td>\n",
       "      <td>0.085808</td>\n",
       "      <td>0.000253</td>\n",
       "      <td>POLYGON ((-118.26530 34.25735, -118.26542 34.2...</td>\n",
       "    </tr>\n",
       "  </tbody>\n",
       "</table>\n",
       "</div>"
      ],
      "text/plain": [
       "   FID  Tract_N  SPA          Detailed_1   CD          Detailed_N   SD  \\\n",
       "0    1   101110  2.0  Sunland-Tujunga NC  7.0  Sunland-Tujunga NC  5.0   \n",
       "1    2   101122  2.0  Sunland-Tujunga NC  7.0  Sunland-Tujunga NC  5.0   \n",
       "2    3   101210  2.0  Sunland-Tujunga NC  7.0  Sunland-Tujunga NC  5.0   \n",
       "3    4   101220  2.0  Sunland-Tujunga NC  7.0  Sunland-Tujunga NC  5.0   \n",
       "4    5   101300  2.0  Sunland-Tujunga NC  7.0  Sunland-Tujunga NC  5.0   \n",
       "\n",
       "    Tract_1  Year_1  totUnshe_1  totShelt_1  totPeopl_1     u_dens  s_dens  \\\n",
       "0  101110.0  2019.0      12.614         0.0      12.614  28.600087     0.0   \n",
       "1  101122.0  2019.0       1.000         0.0       1.000   0.979639     0.0   \n",
       "2  101210.0  2019.0      14.517         0.0      14.517  57.787763     0.0   \n",
       "3  101220.0  2019.0      24.058         0.0      24.058  89.152876     0.0   \n",
       "4  101300.0  2019.0       9.278         0.0       9.278   9.313195     0.0   \n",
       "\n",
       "      t_dens unincorpor  SHAPE_Leng  SHAPE_Area  \\\n",
       "0  28.600087         No    0.047172    0.000112   \n",
       "1   0.979639         No    0.096234    0.000259   \n",
       "2  57.787763         No    0.037363    0.000064   \n",
       "3  89.152876         No    0.038497    0.000068   \n",
       "4   9.313195         No    0.085808    0.000253   \n",
       "\n",
       "                                            geometry  \n",
       "0  POLYGON ((-118.28491 34.25948, -118.28494 34.2...  \n",
       "1  POLYGON ((-118.29015 34.27417, -118.29015 34.2...  \n",
       "2  POLYGON ((-118.28594 34.24896, -118.28594 34.2...  \n",
       "3  POLYGON ((-118.28100 34.25592, -118.28101 34.2...  \n",
       "4  POLYGON ((-118.26530 34.25735, -118.26542 34.2...  "
      ]
     },
     "execution_count": 63,
     "metadata": {},
     "output_type": "execute_result"
    }
   ],
   "source": [
    "homeless_count.head()"
   ]
  },
  {
   "cell_type": "markdown",
   "id": "908ede15-569e-4a2f-af90-f473f120d569",
   "metadata": {},
   "source": [
    "This shows me the first 5 rows of data so that I can have a better idea what information I'm working with. I see that I am given different geolocation categories that I can analyze. Not only am I given the latitude and longitude of each count location, I am also given the neighborhood, council districts, and census tracts."
   ]
  },
  {
   "cell_type": "markdown",
   "id": "01474969-8779-45eb-9442-78dd8f84fbe4",
   "metadata": {},
   "source": [
    "**Step 6:** Next, I will plot the data too see what it looks like"
   ]
  },
  {
   "cell_type": "code",
   "execution_count": 65,
   "id": "de738633-e810-451d-99bf-912c486ee76b",
   "metadata": {},
   "outputs": [
    {
     "data": {
      "text/plain": [
       "<AxesSubplot:>"
      ]
     },
     "execution_count": 65,
     "metadata": {},
     "output_type": "execute_result"
    },
    {
     "data": {
      "image/png": "[encoded data removed]",
      "text/plain": [
       "<Figure size 432x288 with 1 Axes>"
      ]
     },
     "metadata": {
      "needs_background": "light"
     },
     "output_type": "display_data"
    }
   ],
   "source": [
    "homeless_count.plot()"
   ]
  },
  {
   "cell_type": "markdown",
   "id": "5cf2781c-5d71-48b7-8fc6-01495b94c2e3",
   "metadata": {},
   "source": [
    "This plot uses the latitude and longitude location of each count to plot it's points. These points are overlayed over a map of LA County."
   ]
  },
  {
   "cell_type": "markdown",
   "id": "23b2f8e7-80bf-4f70-88b4-ddb6ecf0655c",
   "metadata": {},
   "source": [
    "**Step 7:** Now I want to run a value count. However, I must first decide on a column I would like to count. "
   ]
  },
  {
   "cell_type": "code",
   "execution_count": 66,
   "id": "ed1051bf-167c-4248-897a-70a76bf655fe",
   "metadata": {},
   "outputs": [
    {
     "data": {
      "text/plain": [
       "['FID',\n",
       " 'Tract_N',\n",
       " 'SPA',\n",
       " 'Detailed_1',\n",
       " 'CD',\n",
       " 'Detailed_N',\n",
       " 'SD',\n",
       " 'Tract_1',\n",
       " 'Year_1',\n",
       " 'totUnshe_1',\n",
       " 'totShelt_1',\n",
       " 'totPeopl_1',\n",
       " 'u_dens',\n",
       " 's_dens',\n",
       " 't_dens',\n",
       " 'unincorpor',\n",
       " 'SHAPE_Leng',\n",
       " 'SHAPE_Area',\n",
       " 'geometry']"
      ]
     },
     "execution_count": 66,
     "metadata": {},
     "output_type": "execute_result"
    }
   ],
   "source": [
    "homeless_count.columns.to_list()"
   ]
  },
  {
   "cell_type": "markdown",
   "id": "6e6abd57-c613-4e6f-abe8-a350fc41dc1c",
   "metadata": {},
   "source": [
    "Now I see the name of each column so that I can decide which column I would like to run a value count on.\n",
    "\n",
    "**Step 8:** First, I want to see what city council district has the highest count, so I run a value count on 'CD'."
   ]
  },
  {
   "cell_type": "code",
   "execution_count": 76,
   "id": "9787393a-e0f8-4cf7-ae01-450cd74ed13c",
   "metadata": {},
   "outputs": [
    {
     "data": {
      "text/plain": [
       "0.0     1159\n",
       "13.0      73\n",
       "11.0      72\n",
       "10.0      71\n",
       "14.0      70\n",
       "1.0       70\n",
       "4.0       69\n",
       "5.0       69\n",
       "2.0       68\n",
       "12.0      68\n",
       "6.0       66\n",
       "15.0      66\n",
       "7.0       65\n",
       "9.0       62\n",
       "3.0       60\n",
       "8.0       55\n",
       "Name: CD, dtype: int64"
      ]
     },
     "execution_count": 76,
     "metadata": {},
     "output_type": "execute_result"
    }
   ],
   "source": [
    "homeless_count['CD'].value_counts()"
   ]
  },
  {
   "cell_type": "markdown",
   "id": "9e8b9e19-e2df-4fe1-b468-7ff902f0c94b",
   "metadata": {},
   "source": [
    "This value count shows me the 5 council districts with the highest concentration and the 5 with the lowest concentration of homeless individuals. As you can see, District 13 has the highest concentration and District 8 has the lowest."
   ]
  },
  {
   "cell_type": "markdown",
   "id": "b169326d-6615-4b8a-ac83-34f4126c9ad9",
   "metadata": {},
   "source": [
    "**Step 9:** Now, I want to check which neighborhood has the highest concentration, so I run a value count on 'Detailed_1'."
   ]
  },
  {
   "cell_type": "code",
   "execution_count": 77,
   "id": "344eb6de-fbba-462c-ab70-a07e8be0060f",
   "metadata": {},
   "outputs": [
    {
     "data": {
      "text/plain": [
       "Santa Clarita                       44\n",
       "Torrance                            31\n",
       "Pomona                              30\n",
       "Palmdale                            29\n",
       "Lancaster                           29\n",
       "                                    ..\n",
       "Unincorporated Long Beach Island     1\n",
       "Marina Del Rey                       1\n",
       "Ladera Heights                       1\n",
       "Calabasas                            1\n",
       "Vincent                              1\n",
       "Name: Detailed_1, Length: 248, dtype: int64"
      ]
     },
     "execution_count": 77,
     "metadata": {},
     "output_type": "execute_result"
    }
   ],
   "source": [
    "homeless_count['Detailed_1'].value_counts()"
   ]
  },
  {
   "cell_type": "markdown",
   "id": "bdd16d6f-59f2-4731-a917-4f7e4f0bb74c",
   "metadata": {},
   "source": [
    "This value count shows me the 5 neighborhoods with the highest concentration and the 5 neighborhoods with the lowest concentration of homeless individuals. As you can see, Santa Clarita has the highest concentration at 44 individuals counted, and the 5 neighborhoods with the lowest only have a count of 1. "
   ]
  },
  {
   "cell_type": "markdown",
   "id": "4e27f261-edfa-4af6-8964-075e46bcadab",
   "metadata": {},
   "source": [
    "**Step 10:** Since Council District 13 had the highest concentration, I want to run a query to filter my data so that I can take a better look at the data of the counts within CD 13."
   ]
  },
  {
   "cell_type": "code",
   "execution_count": 83,
   "id": "b39d06ca-44a5-4fe2-8ebc-ef28523ee08c",
   "metadata": {},
   "outputs": [
    {
     "data": {
      "text/html": [
       "<div>\n",
       "<style scoped>\n",
       "    .dataframe tbody tr th:only-of-type {\n",
       "        vertical-align: middle;\n",
       "    }\n",
       "\n",
       "    .dataframe tbody tr th {\n",
       "        vertical-align: top;\n",
       "    }\n",
       "\n",
       "    .dataframe thead th {\n",
       "        text-align: right;\n",
       "    }\n",
       "</style>\n",
       "<table border=\"1\" class=\"dataframe\">\n",
       "  <thead>\n",
       "    <tr style=\"text-align: right;\">\n",
       "      <th></th>\n",
       "      <th>FID</th>\n",
       "      <th>Tract_N</th>\n",
       "      <th>SPA</th>\n",
       "      <th>Detailed_1</th>\n",
       "      <th>CD</th>\n",
       "      <th>Detailed_N</th>\n",
       "      <th>SD</th>\n",
       "      <th>Tract_1</th>\n",
       "      <th>Year_1</th>\n",
       "      <th>totUnshe_1</th>\n",
       "      <th>totShelt_1</th>\n",
       "      <th>totPeopl_1</th>\n",
       "      <th>u_dens</th>\n",
       "      <th>s_dens</th>\n",
       "      <th>t_dens</th>\n",
       "      <th>unincorpor</th>\n",
       "      <th>SHAPE_Leng</th>\n",
       "      <th>SHAPE_Area</th>\n",
       "      <th>geometry</th>\n",
       "    </tr>\n",
       "  </thead>\n",
       "  <tbody>\n",
       "    <tr>\n",
       "      <th>385</th>\n",
       "      <td>386</td>\n",
       "      <td>186301</td>\n",
       "      <td>4.0</td>\n",
       "      <td>Glassell Park NC</td>\n",
       "      <td>13.0</td>\n",
       "      <td>Glassell Park NC</td>\n",
       "      <td>1.0</td>\n",
       "      <td>186301.0</td>\n",
       "      <td>2019.0</td>\n",
       "      <td>2.758</td>\n",
       "      <td>0.0</td>\n",
       "      <td>2.758</td>\n",
       "      <td>6.147177</td>\n",
       "      <td>0.0</td>\n",
       "      <td>6.147177</td>\n",
       "      <td>No</td>\n",
       "      <td>0.056093</td>\n",
       "      <td>0.000114</td>\n",
       "      <td>POLYGON ((-118.23607 34.12446, -118.23591 34.1...</td>\n",
       "    </tr>\n",
       "    <tr>\n",
       "      <th>387</th>\n",
       "      <td>388</td>\n",
       "      <td>186401</td>\n",
       "      <td>4.0</td>\n",
       "      <td>Glassell Park NC</td>\n",
       "      <td>13.0</td>\n",
       "      <td>Glassell Park NC</td>\n",
       "      <td>1.0</td>\n",
       "      <td>186401.0</td>\n",
       "      <td>2019.0</td>\n",
       "      <td>44.432</td>\n",
       "      <td>0.0</td>\n",
       "      <td>44.432</td>\n",
       "      <td>119.750934</td>\n",
       "      <td>0.0</td>\n",
       "      <td>119.750934</td>\n",
       "      <td>No</td>\n",
       "      <td>0.054983</td>\n",
       "      <td>0.000094</td>\n",
       "      <td>POLYGON ((-118.24866 34.12065, -118.24678 34.1...</td>\n",
       "    </tr>\n",
       "    <tr>\n",
       "      <th>390</th>\n",
       "      <td>391</td>\n",
       "      <td>187101</td>\n",
       "      <td>4.0</td>\n",
       "      <td>Atwater Village NC</td>\n",
       "      <td>13.0</td>\n",
       "      <td>Atwater Village NC</td>\n",
       "      <td>1.0</td>\n",
       "      <td>187101.0</td>\n",
       "      <td>2019.0</td>\n",
       "      <td>14.812</td>\n",
       "      <td>0.0</td>\n",
       "      <td>14.812</td>\n",
       "      <td>48.679692</td>\n",
       "      <td>0.0</td>\n",
       "      <td>48.679692</td>\n",
       "      <td>No</td>\n",
       "      <td>0.038380</td>\n",
       "      <td>0.000077</td>\n",
       "      <td>POLYGON ((-118.25428 34.11878, -118.25427 34.1...</td>\n",
       "    </tr>\n",
       "    <tr>\n",
       "      <th>391</th>\n",
       "      <td>392</td>\n",
       "      <td>187102</td>\n",
       "      <td>4.0</td>\n",
       "      <td>Atwater Village NC</td>\n",
       "      <td>13.0</td>\n",
       "      <td>Atwater Village NC</td>\n",
       "      <td>1.0</td>\n",
       "      <td>187102.0</td>\n",
       "      <td>2019.0</td>\n",
       "      <td>29.300</td>\n",
       "      <td>0.0</td>\n",
       "      <td>29.300</td>\n",
       "      <td>34.534537</td>\n",
       "      <td>0.0</td>\n",
       "      <td>34.534537</td>\n",
       "      <td>No</td>\n",
       "      <td>0.114300</td>\n",
       "      <td>0.000215</td>\n",
       "      <td>POLYGON ((-118.24745 34.11307, -118.24699 34.1...</td>\n",
       "    </tr>\n",
       "    <tr>\n",
       "      <th>392</th>\n",
       "      <td>393</td>\n",
       "      <td>187200</td>\n",
       "      <td>4.0</td>\n",
       "      <td>Elysian Valley Riverside NC</td>\n",
       "      <td>13.0</td>\n",
       "      <td>Elysian Valley Riverside NC</td>\n",
       "      <td>1.0</td>\n",
       "      <td>187200.0</td>\n",
       "      <td>2019.0</td>\n",
       "      <td>58.686</td>\n",
       "      <td>0.0</td>\n",
       "      <td>58.686</td>\n",
       "      <td>159.684742</td>\n",
       "      <td>0.0</td>\n",
       "      <td>159.684742</td>\n",
       "      <td>No</td>\n",
       "      <td>0.047252</td>\n",
       "      <td>0.000093</td>\n",
       "      <td>POLYGON ((-118.24816 34.10827, -118.24710 34.1...</td>\n",
       "    </tr>\n",
       "    <tr>\n",
       "      <th>...</th>\n",
       "      <td>...</td>\n",
       "      <td>...</td>\n",
       "      <td>...</td>\n",
       "      <td>...</td>\n",
       "      <td>...</td>\n",
       "      <td>...</td>\n",
       "      <td>...</td>\n",
       "      <td>...</td>\n",
       "      <td>...</td>\n",
       "      <td>...</td>\n",
       "      <td>...</td>\n",
       "      <td>...</td>\n",
       "      <td>...</td>\n",
       "      <td>...</td>\n",
       "      <td>...</td>\n",
       "      <td>...</td>\n",
       "      <td>...</td>\n",
       "      <td>...</td>\n",
       "      <td>...</td>\n",
       "    </tr>\n",
       "    <tr>\n",
       "      <th>579</th>\n",
       "      <td>580</td>\n",
       "      <td>211122</td>\n",
       "      <td>4.0</td>\n",
       "      <td>Rampart Village NC</td>\n",
       "      <td>13.0</td>\n",
       "      <td>Rampart Village NC</td>\n",
       "      <td>2.0</td>\n",
       "      <td>211122.0</td>\n",
       "      <td>2019.0</td>\n",
       "      <td>123.470</td>\n",
       "      <td>0.0</td>\n",
       "      <td>123.470</td>\n",
       "      <td>874.812587</td>\n",
       "      <td>0.0</td>\n",
       "      <td>874.812587</td>\n",
       "      <td>No</td>\n",
       "      <td>0.024372</td>\n",
       "      <td>0.000036</td>\n",
       "      <td>POLYGON ((-118.29051 34.07633, -118.28945 34.0...</td>\n",
       "    </tr>\n",
       "    <tr>\n",
       "      <th>580</th>\n",
       "      <td>581</td>\n",
       "      <td>211201</td>\n",
       "      <td>4.0</td>\n",
       "      <td>Wilshire Center-Koreatown NC</td>\n",
       "      <td>13.0</td>\n",
       "      <td>Wilshire Center-Koreatown NC</td>\n",
       "      <td>2.0</td>\n",
       "      <td>211201.0</td>\n",
       "      <td>2019.0</td>\n",
       "      <td>1.427</td>\n",
       "      <td>0.0</td>\n",
       "      <td>1.427</td>\n",
       "      <td>26.519500</td>\n",
       "      <td>0.0</td>\n",
       "      <td>26.519500</td>\n",
       "      <td>No</td>\n",
       "      <td>0.014800</td>\n",
       "      <td>0.000014</td>\n",
       "      <td>POLYGON ((-118.29657 34.07631, -118.29655 34.0...</td>\n",
       "    </tr>\n",
       "    <tr>\n",
       "      <th>581</th>\n",
       "      <td>582</td>\n",
       "      <td>211202</td>\n",
       "      <td>4.0</td>\n",
       "      <td>Wilshire Center-Koreatown NC</td>\n",
       "      <td>13.0</td>\n",
       "      <td>Wilshire Center-Koreatown NC</td>\n",
       "      <td>2.0</td>\n",
       "      <td>211202.0</td>\n",
       "      <td>2019.0</td>\n",
       "      <td>11.762</td>\n",
       "      <td>0.0</td>\n",
       "      <td>11.762</td>\n",
       "      <td>170.030750</td>\n",
       "      <td>0.0</td>\n",
       "      <td>170.030750</td>\n",
       "      <td>No</td>\n",
       "      <td>0.016913</td>\n",
       "      <td>0.000017</td>\n",
       "      <td>POLYGON ((-118.29170 34.07633, -118.29169 34.0...</td>\n",
       "    </tr>\n",
       "    <tr>\n",
       "      <th>582</th>\n",
       "      <td>583</td>\n",
       "      <td>211310</td>\n",
       "      <td>4.0</td>\n",
       "      <td>Wilshire Center-Koreatown NC</td>\n",
       "      <td>13.0</td>\n",
       "      <td>Wilshire Center-Koreatown NC</td>\n",
       "      <td>2.0</td>\n",
       "      <td>211310.0</td>\n",
       "      <td>2019.0</td>\n",
       "      <td>6.830</td>\n",
       "      <td>0.0</td>\n",
       "      <td>6.830</td>\n",
       "      <td>122.890826</td>\n",
       "      <td>0.0</td>\n",
       "      <td>122.890826</td>\n",
       "      <td>No</td>\n",
       "      <td>0.015005</td>\n",
       "      <td>0.000014</td>\n",
       "      <td>POLYGON ((-118.29795 34.06903, -118.29913 34.0...</td>\n",
       "    </tr>\n",
       "    <tr>\n",
       "      <th>583</th>\n",
       "      <td>584</td>\n",
       "      <td>211320</td>\n",
       "      <td>4.0</td>\n",
       "      <td>Wilshire Center-Koreatown NC</td>\n",
       "      <td>13.0</td>\n",
       "      <td>Wilshire Center-Koreatown NC</td>\n",
       "      <td>2.0</td>\n",
       "      <td>211320.0</td>\n",
       "      <td>2019.0</td>\n",
       "      <td>4.331</td>\n",
       "      <td>0.0</td>\n",
       "      <td>4.331</td>\n",
       "      <td>60.220568</td>\n",
       "      <td>0.0</td>\n",
       "      <td>60.220568</td>\n",
       "      <td>No</td>\n",
       "      <td>0.017253</td>\n",
       "      <td>0.000018</td>\n",
       "      <td>POLYGON ((-118.29655 34.07273, -118.29604 34.0...</td>\n",
       "    </tr>\n",
       "  </tbody>\n",
       "</table>\n",
       "<p>73 rows × 19 columns</p>\n",
       "</div>"
      ],
      "text/plain": [
       "     FID  Tract_N  SPA                    Detailed_1    CD  \\\n",
       "385  386   186301  4.0              Glassell Park NC  13.0   \n",
       "387  388   186401  4.0              Glassell Park NC  13.0   \n",
       "390  391   187101  4.0            Atwater Village NC  13.0   \n",
       "391  392   187102  4.0            Atwater Village NC  13.0   \n",
       "392  393   187200  4.0   Elysian Valley Riverside NC  13.0   \n",
       "..   ...      ...  ...                           ...   ...   \n",
       "579  580   211122  4.0            Rampart Village NC  13.0   \n",
       "580  581   211201  4.0  Wilshire Center-Koreatown NC  13.0   \n",
       "581  582   211202  4.0  Wilshire Center-Koreatown NC  13.0   \n",
       "582  583   211310  4.0  Wilshire Center-Koreatown NC  13.0   \n",
       "583  584   211320  4.0  Wilshire Center-Koreatown NC  13.0   \n",
       "\n",
       "                       Detailed_N   SD   Tract_1  Year_1  totUnshe_1  \\\n",
       "385              Glassell Park NC  1.0  186301.0  2019.0       2.758   \n",
       "387              Glassell Park NC  1.0  186401.0  2019.0      44.432   \n",
       "390            Atwater Village NC  1.0  187101.0  2019.0      14.812   \n",
       "391            Atwater Village NC  1.0  187102.0  2019.0      29.300   \n",
       "392   Elysian Valley Riverside NC  1.0  187200.0  2019.0      58.686   \n",
       "..                            ...  ...       ...     ...         ...   \n",
       "579            Rampart Village NC  2.0  211122.0  2019.0     123.470   \n",
       "580  Wilshire Center-Koreatown NC  2.0  211201.0  2019.0       1.427   \n",
       "581  Wilshire Center-Koreatown NC  2.0  211202.0  2019.0      11.762   \n",
       "582  Wilshire Center-Koreatown NC  2.0  211310.0  2019.0       6.830   \n",
       "583  Wilshire Center-Koreatown NC  2.0  211320.0  2019.0       4.331   \n",
       "\n",
       "     totShelt_1  totPeopl_1      u_dens  s_dens      t_dens unincorpor  \\\n",
       "385         0.0       2.758    6.147177     0.0    6.147177         No   \n",
       "387         0.0      44.432  119.750934     0.0  119.750934         No   \n",
       "390         0.0      14.812   48.679692     0.0   48.679692         No   \n",
       "391         0.0      29.300   34.534537     0.0   34.534537         No   \n",
       "392         0.0      58.686  159.684742     0.0  159.684742         No   \n",
       "..          ...         ...         ...     ...         ...        ...   \n",
       "579         0.0     123.470  874.812587     0.0  874.812587         No   \n",
       "580         0.0       1.427   26.519500     0.0   26.519500         No   \n",
       "581         0.0      11.762  170.030750     0.0  170.030750         No   \n",
       "582         0.0       6.830  122.890826     0.0  122.890826         No   \n",
       "583         0.0       4.331   60.220568     0.0   60.220568         No   \n",
       "\n",
       "     SHAPE_Leng  SHAPE_Area                                           geometry  \n",
       "385    0.056093    0.000114  POLYGON ((-118.23607 34.12446, -118.23591 34.1...  \n",
       "387    0.054983    0.000094  POLYGON ((-118.24866 34.12065, -118.24678 34.1...  \n",
       "390    0.038380    0.000077  POLYGON ((-118.25428 34.11878, -118.25427 34.1...  \n",
       "391    0.114300    0.000215  POLYGON ((-118.24745 34.11307, -118.24699 34.1...  \n",
       "392    0.047252    0.000093  POLYGON ((-118.24816 34.10827, -118.24710 34.1...  \n",
       "..          ...         ...                                                ...  \n",
       "579    0.024372    0.000036  POLYGON ((-118.29051 34.07633, -118.28945 34.0...  \n",
       "580    0.014800    0.000014  POLYGON ((-118.29657 34.07631, -118.29655 34.0...  \n",
       "581    0.016913    0.000017  POLYGON ((-118.29170 34.07633, -118.29169 34.0...  \n",
       "582    0.015005    0.000014  POLYGON ((-118.29795 34.06903, -118.29913 34.0...  \n",
       "583    0.017253    0.000018  POLYGON ((-118.29655 34.07273, -118.29604 34.0...  \n",
       "\n",
       "[73 rows x 19 columns]"
      ]
     },
     "execution_count": 83,
     "metadata": {},
     "output_type": "execute_result"
    }
   ],
   "source": [
    "homeless_count[homeless_count.CD == 13.0]"
   ]
  },
  {
   "cell_type": "markdown",
   "id": "434ec020-af02-4b87-ae24-d9eb1e1fe1c3",
   "metadata": {},
   "source": [
    "Now I am only shown the 73 counts in CD 13, and I can take a closer look at how the data in that council dristrict is further broken down. For example, even though all the counts in this table have the same council district, they can have a different neighborhood and census tract."
   ]
  },
  {
   "cell_type": "markdown",
   "id": "fe13e0ad-838e-4f20-b822-af173bb97371",
   "metadata": {},
   "source": [
    "**Step 11:** Next, I want to make a bar plot of the value counts within each neighborhood. First, I must save the category as a variable. "
   ]
  },
  {
   "cell_type": "code",
   "execution_count": 85,
   "id": "3332c84d-d476-4689-ab36-ea8b8e9d81b6",
   "metadata": {},
   "outputs": [
    {
     "data": {
      "text/plain": [
       "Santa Clarita                       44\n",
       "Torrance                            31\n",
       "Pomona                              30\n",
       "Palmdale                            29\n",
       "Lancaster                           29\n",
       "                                    ..\n",
       "Unincorporated Long Beach Island     1\n",
       "Marina Del Rey                       1\n",
       "Ladera Heights                       1\n",
       "Calabasas                            1\n",
       "Vincent                              1\n",
       "Name: Detailed_1, Length: 248, dtype: int64"
      ]
     },
     "execution_count": 85,
     "metadata": {},
     "output_type": "execute_result"
    }
   ],
   "source": [
    "line_count = homeless_count['Detailed_1'].value_counts()\n",
    "line_count"
   ]
  },
  {
   "cell_type": "markdown",
   "id": "2bcdf2c7-7fa7-473c-bc49-c658b9a50008",
   "metadata": {},
   "source": [
    "I have defined the variable \"line_count\" as the value count of the Neighborhood Column, and now we see that count listed again with the 5 neighborhoods with the highest and lowest counts listed."
   ]
  },
  {
   "cell_type": "markdown",
   "id": "ac9cfd77-0e0a-4ed4-8576-81466f7e8de8",
   "metadata": {},
   "source": [
    "**Step 12:** Now I will code a bar plot that can help us visualize the value count within each neighborhood."
   ]
  },
  {
   "cell_type": "code",
   "execution_count": 86,
   "id": "e9a068be-a5db-4352-bbbd-26ce0a865456",
   "metadata": {},
   "outputs": [
    {
     "data": {
      "text/plain": [
       "<AxesSubplot:title={'center':'Number of counts per neighborhood'}>"
      ]
     },
     "execution_count": 86,
     "metadata": {},
     "output_type": "execute_result"
    },
    {
     "data": {
      "image/png": "[encoded data removed]",
      "text/plain": [
       "<Figure size 432x288 with 1 Axes>"
      ]
     },
     "metadata": {
      "needs_background": "light"
     },
     "output_type": "display_data"
    }
   ],
   "source": [
    "line_count.plot.bar(x = 'neighborhood', y = 'count', title = 'Number of counts per neighborhood')"
   ]
  },
  {
   "cell_type": "markdown",
   "id": "91a5c93b-224e-4ea6-a03f-7b813e69e663",
   "metadata": {},
   "source": [
    "This bar plot visualizes the distribution of the homeless count throughout the different neighborhoods. "
   ]
  },
  {
   "cell_type": "code",
   "execution_count": null,
   "id": "ec68bb75-6e8c-4d55-9495-c532303117e9",
   "metadata": {},
   "outputs": [],
   "source": []
  }
 ],
 "metadata": {
  "kernelspec": {
   "display_name": "Python 3 (ipykernel)",
   "language": "python",
   "name": "python3"
  },
  "language_info": {
   "codemirror_mode": {
    "name": "ipython",
    "version": 3
   },
   "file_extension": ".py",
   "mimetype": "text/x-python",
   "name": "python",
   "nbconvert_exporter": "python",
   "pygments_lexer": "ipython3",
   "version": "3.9.6"
  }
 },
 "nbformat": 4,
 "nbformat_minor": 5
}
